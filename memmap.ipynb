{
 "cells": [
  {
   "attachments": {},
   "cell_type": "markdown",
   "metadata": {},
   "source": [
    "# Notebook for extracting volume sections from entire brain volumes"
   ]
  },
  {
   "attachments": {},
   "cell_type": "markdown",
   "metadata": {},
   "source": [
    "### Set up"
   ]
  },
  {
   "cell_type": "code",
   "execution_count": 1,
   "metadata": {},
   "outputs": [
    {
     "name": "stdout",
     "output_type": "stream",
     "text": [
      "Is this what you expected? (6448, 6448, 1024)\n"
     ]
    }
   ],
   "source": [
    "# # Install the required packages\n",
    "# !pip install numpy\n",
    "# !pip install pandas\n",
    "# !pip install matplotlib\n",
    "# !pip install opencv-python\n",
    "\n",
    "## Center coordinates of desired extracted slices\n",
    "# x, y, z = 2469, 3948, 1011 # Occipital lobe\n",
    "#x, y, z = 2019, 3956, 3701 # Parietal lobe\n",
    "#x, y, z = 3049, 4178, 5485 # Frontal_lobe 1\n",
    "#x, y, z = 3166, 1398, 2443 # Occipital lobe 2\n",
    "x, y, z = 3868, 3914, 5800 # Frontal lobe 3\n",
    "\n",
    "\n",
    "import os\n",
    "import numpy as np\n",
    "import cv2\n",
    "\n",
    "# Define image directories\n",
    "\n",
    "# Parent directory\n",
    "path = \"D:\\\\Eric\"\n",
    "#path = \"C:\\\\Users\\\\homeuser\\\\Documents\\\\brain\"\n",
    "#path = \"D:\\\\Eric_Brain\\\\extracted_slices\"\n",
    "\n",
    "\n",
    "# Directory with the images\n",
    "data_path = os.path.join(path, 'data')\n",
    "\n",
    "# List of all files in the directory that end with .jp2\n",
    "files = os.listdir(data_path)\n",
    "files = [f for f in files if f.endswith('.jp2')]\n",
    "\n",
    "\n",
    "# Read the first image\n",
    "dummy_image = cv2.imread(os.path.join(data_path, files[0]), cv2.IMREAD_UNCHANGED)\n",
    "\n",
    "# Define the dimensions of the desired extracted volume\n",
    "n = 10 # Power of 2\n",
    "dx, dy, dz = 2**n, 2**n, 2**n\n",
    "# Dimensions of the extracted volume\n",
    "dx_dy_dz = (dx, dy, dz)\n",
    "\n",
    "# Define the center of the extracted slice\n",
    "#x, y, z = 3067, 1542, 5118\n",
    "xyz_center = (x, y, z)\n",
    "\n",
    "# Shape of the memory-mapped array to be created **\n",
    "# Going through all the slices is expensive, so we just take the slices we need\n",
    "shape = (dummy_image.shape[0], dummy_image.shape[1], dz)\n",
    "\n",
    "\n",
    "# Create the memory-mapped array\n",
    "name_of_saved_mmap = f\"memmap_{x}_{y}_{z}.npy\"\n",
    "mmap = np.memmap(os.path.join(path, name_of_saved_mmap), dtype = dummy_image.dtype, mode = 'w+', shape = shape)\n",
    "print(f\"Is this what you expected? {mmap.shape}\")\n",
    "\n",
    "\n"
   ]
  },
  {
   "cell_type": "code",
   "execution_count": 3,
   "metadata": {},
   "outputs": [],
   "source": [
    "# Create a function load slices and extract a volume\n",
    "def load_slices_extract_volume(mmap, name_of_saved_mmap, data_path, files, xyz_center, dx_dy_dz, verbose = True):\n",
    "    \"\"\"\n",
    "    Function to load slices into memory, copy them into the memory mapped array and extract a volume from the memory mapped array.\n",
    "\n",
    "    Parameters\n",
    "    ----------\n",
    "    mmap : numpy.memmap\n",
    "        The memory mapped that has been created.\n",
    "    name_of_saved_mmap : str\n",
    "        The name of the saved memory mapped array.\n",
    "    data_path : str\n",
    "        The path to the directory with the images.\n",
    "    files : list\n",
    "        List of all files in the directory that end with .jp2.\n",
    "    xyz_center : tuple\n",
    "        The center of the extracted volume.\n",
    "    dx_dy_dz : tuple\n",
    "        The dimensions of the extracted volume.\n",
    "    verbose : bool, optional\n",
    "        If True, print the progress. The default is True.\n",
    "\n",
    "    Returns\n",
    "    -------\n",
    "    Volume: Extracted volume\n",
    "    \"\"\"\n",
    "\n",
    "\n",
    "    # Extract the center of the extracted volume\n",
    "    x = xyz_center[0]\n",
    "    y = xyz_center[1]\n",
    "    z = xyz_center[2]\n",
    "\n",
    "    # Extract the dimensions of the extracted volume\n",
    "    dx = dx_dy_dz[0]\n",
    "    dy = dx_dy_dz[1]\n",
    "    dz = dx_dy_dz[2]\n",
    "\n",
    "    # Define a counter to print the progress\n",
    "    count = np.log(mmap.shape[2]) // np.log(10) - 1\n",
    "    \n",
    "    # Load the slices into memory and copy them into the memory mapped array\n",
    "    for i in range(z-dz//2, z+dz//2):\n",
    "        # Read the slice into memory, cv2.IMREAD_UNCHANGED is used to read the image as is without any conversion\n",
    "        slice_data = cv2.imread(os.path.join(data_path, files[i]), cv2.IMREAD_UNCHANGED)\n",
    "        # Copy the slice into the memory mapped array\n",
    "        mmap[:, :, i - (z-dz//2)] = slice_data\n",
    "\n",
    "        if verbose:\n",
    "            if (i - (z-dz//2)) % 10**count == 0:\n",
    "                print(f\"slice extracted: {i}, slice saved: {i - (z-dz//2)}\")\n",
    "\n",
    "    # Close the memory mapped array**\n",
    "    del mmap\n",
    "\n",
    "    # Read the loaded memory mapped array\n",
    "    mmap = np.memmap(os.path.join(data_path, os.pardir, name_of_saved_mmap), dtype = np.uint16, mode = 'r', shape = shape)\n",
    "    \n",
    "    # Extract a volume from the memory mapped array\n",
    "    volume = mmap[x-dx//2:x+dx//2, y-dy//2:y+dy//2, :]\n",
    "\n",
    "    # Check the shape of the extracted slice and the data type of the read slice\n",
    "    print(f\"\\nExtracted volume shape: {volume.shape}\\n\")\n",
    "\n",
    "    # Save the slices as separate JPEG 2000 files\n",
    "    from pathlib import Path\n",
    "    extractedv_path = Path(os.path.join(data_path, os.pardir, f\"Extracted_slices_x_y_z_{x}_{y}_{z}_shape_{dx}_{dy}_{dz}\"))\n",
    "    # Create the folder if it does not exist\n",
    "    extractedv_path.mkdir(parents=True, exist_ok=True)\n",
    "    for s in range(volume.shape[2]):\n",
    "    # In CV2 16-bit unsigned images can be saved in the case of PNG, JPEG 2000, and TIFF formats.\n",
    "    # Others will be converted to 8-bit unsigned images and saved that way. \n",
    "    # See: https://docs.opencv.org/3.4/d4/da8/group__imgcodecs.html\n",
    "        filepath = extractedv_path / files[s]\n",
    "        cv2.imwrite(str(filepath), volume[:, :, s].astype(np.uint16), [cv2.IMWRITE_JPEG2000_COMPRESSION_X1000, 1000])\n",
    "        # A higher value means higher quality but larger file size\n",
    "\n",
    "        # Print the slice number saved if verbose is True\n",
    "        if verbose:\n",
    "            if s % 10**count == 0:\n",
    "                print(f\"slice saved: {s}\")\n",
    "               \n",
    "    # Close the memory mapped array**\n",
    "    del mmap\n",
    "\n",
    "    return volume\n",
    "   "
   ]
  },
  {
   "cell_type": "code",
   "execution_count": 4,
   "metadata": {},
   "outputs": [
    {
     "name": "stdout",
     "output_type": "stream",
     "text": [
      "slice extracted: 5288, slice saved: 0\n",
      "slice extracted: 5388, slice saved: 100\n",
      "slice extracted: 5488, slice saved: 200\n",
      "slice extracted: 5588, slice saved: 300\n",
      "slice extracted: 5688, slice saved: 400\n",
      "slice extracted: 5788, slice saved: 500\n",
      "slice extracted: 5888, slice saved: 600\n",
      "slice extracted: 5988, slice saved: 700\n",
      "slice extracted: 6088, slice saved: 800\n",
      "slice extracted: 6188, slice saved: 900\n",
      "slice extracted: 6288, slice saved: 1000\n",
      "\n",
      "Extracted volume shape: (1024, 1024, 1024)\n",
      "\n",
      "slice saved: 0\n",
      "slice saved: 100\n",
      "slice saved: 200\n",
      "slice saved: 300\n",
      "slice saved: 400\n",
      "slice saved: 500\n",
      "slice saved: 600\n",
      "slice saved: 700\n",
      "slice saved: 800\n",
      "slice saved: 900\n",
      "slice saved: 1000\n"
     ]
    }
   ],
   "source": [
    "# Call the function\n",
    "extracted_volume = load_slices_extract_volume(mmap, name_of_saved_mmap, data_path, files, xyz_center, dx_dy_dz, verbose = True)"
   ]
  },
  {
   "cell_type": "code",
   "execution_count": 17,
   "metadata": {},
   "outputs": [
    {
     "data": {
      "text/plain": [
       "(1024, 1024, 1024)"
      ]
     },
     "execution_count": 17,
     "metadata": {},
     "output_type": "execute_result"
    }
   ],
   "source": [
    "extracted_volume.shape"
   ]
  },
  {
   "attachments": {},
   "cell_type": "markdown",
   "metadata": {},
   "source": [
    "## Appendix"
   ]
  },
  {
   "cell_type": "code",
   "execution_count": null,
   "metadata": {},
   "outputs": [],
   "source": [
    "# count = np.log(shape[2]) // np.log(10) - 1\n",
    "# # Load the slices into memory and copy them into the memory mapped array\n",
    "# for i in range(z-dz//2, z+dz//2):\n",
    "#     # Read the slice into memory, cv2.IMREAD_UNCHANGED is used to read the image as is without any conversion\n",
    "#     slice_data = cv2.imread(os.path.join(data_path, files[i]), cv2.IMREAD_UNCHANGED)\n",
    "#     # Copy the slice into the memory mapped array\n",
    "#     mmap[:, :, i - (z-dz//2)] = slice_data\n",
    "\n",
    "#     if (i - (z-dz//2)) % 10**count == 0:\n",
    "#         print(f\"slice extracted: {i}, slice saved: {i - (z-dz//2)}\")\n",
    "\n",
    "# # Extract a volume from the memory mapped array\n",
    "# volume = mmap[x-dx//2:x+dx//2, y-dy//2:y+dy//2, z-dz//2:z+dz//2]\n",
    "\n",
    "# # Check the shape of the extracted slice and the data type of the read slice\n",
    "# print(f\"Extracted volume shape: {volume.shape}\")\n",
    "\n",
    "\n",
    "# # Save the slices as separate JPEG 2000 files\n",
    "# from pathlib import Path\n",
    "# extractedv_path = Path(os.path.join(path, f\"Extracted_slices_x_y_z_{x}_{y}_{z}_shape_{dx}_{dy}_{dz}\"))\n",
    "# # Create the folder if it does not exist\n",
    "# extractedv_path.mkdir(parents=True, exist_ok=True)\n",
    "# for s in range(volume.shape[2]):\n",
    "#    # In CV2 16-bit unsigned images can be saved in the case of PNG, JPEG 2000, and TIFF formats.\n",
    "#    # Others will be converted to 8-bit unsigned images and saved that way. \n",
    "#    # See: https://docs.opencv.org/3.4/d4/da8/group__imgcodecs.html\n",
    "#     filepath = extractedv_path / files[s]\n",
    "#     cv2.imwrite(str(filepath), volume[:, :, s].astype(np.uint16), [cv2.IMWRITE_JPEG2000_COMPRESSION_X1000, 1000])\n",
    "#     # A higher value means higher quality but larger file size\n",
    "\n",
    "\n",
    "# # Close the memory mapped array**\n",
    "# del mmap"
   ]
  }
 ],
 "metadata": {
  "kernelspec": {
   "display_name": "brain",
   "language": "python",
   "name": "python3"
  },
  "language_info": {
   "codemirror_mode": {
    "name": "ipython",
    "version": 3
   },
   "file_extension": ".py",
   "mimetype": "text/x-python",
   "name": "python",
   "nbconvert_exporter": "python",
   "pygments_lexer": "ipython3",
   "version": "3.10.4"
  },
  "orig_nbformat": 4
 },
 "nbformat": 4,
 "nbformat_minor": 2
}
